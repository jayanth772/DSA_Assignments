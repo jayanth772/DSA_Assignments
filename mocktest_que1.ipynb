{
 "cells": [
  {
   "cell_type": "code",
   "execution_count": 2,
   "id": "ef3925ed",
   "metadata": {},
   "outputs": [
    {
     "name": "stdout",
     "output_type": "stream",
     "text": [
      "[1, 3, 12, 0, 0]\n",
      "[21, 12, 90, -9, 23, 20, 0, 0, 0, 0, 0]\n",
      "[2, 3, -2, -3, 90, 87, -1, 0, 0, 0, 0, 0]\n"
     ]
    }
   ],
   "source": [
    "def sol(n):\n",
    "    for i in n:\n",
    "        if i==0:\n",
    "            n.remove(0)\n",
    "            n.append(0)\n",
    "            \n",
    "    return n\n",
    "\n",
    "nums = [0,1,0,3,12]\n",
    "print(sol(nums))\n",
    "print(sol([0,0,21,12,90,0,-9,23,0,0,20]))\n",
    "print(sol([2,3,0,0,-2,0,0,-3,90,0,87,-1]))"
   ]
  },
  {
   "cell_type": "code",
   "execution_count": null,
   "id": "a8123e6b",
   "metadata": {},
   "outputs": [],
   "source": []
  }
 ],
 "metadata": {
  "kernelspec": {
   "display_name": "Python 3 (ipykernel)",
   "language": "python",
   "name": "python3"
  },
  "language_info": {
   "codemirror_mode": {
    "name": "ipython",
    "version": 3
   },
   "file_extension": ".py",
   "mimetype": "text/x-python",
   "name": "python",
   "nbconvert_exporter": "python",
   "pygments_lexer": "ipython3",
   "version": "3.10.9"
  }
 },
 "nbformat": 4,
 "nbformat_minor": 5
}
