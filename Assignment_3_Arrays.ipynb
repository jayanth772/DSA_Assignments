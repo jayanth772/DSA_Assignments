{
 "cells": [
  {
   "cell_type": "code",
   "execution_count": null,
   "id": "0e40bc5b",
   "metadata": {},
   "outputs": [],
   "source": [
    "Question 1\n",
    "Given an integer array nums of length n and an integer target, find three integers\n",
    "in nums such that the sum is closest to the target.\n",
    "Return the sum of the three integers.\n",
    "\n",
    "You may assume that each input would have exactly one solution.\n",
    "\n",
    "Example 1:\n",
    "Input: nums = [-1,2,1,-4], target = 1\n",
    "Output: 2\n",
    "\n",
    "Explanation: The sum that is closest to the target is 2. (-1 + 2 + 1 = 2)."
   ]
  },
  {
   "cell_type": "code",
   "execution_count": 3,
   "id": "e372687f",
   "metadata": {},
   "outputs": [
    {
     "ename": "NameError",
     "evalue": "name 'itertools' is not defined",
     "output_type": "error",
     "traceback": [
      "\u001b[1;31m---------------------------------------------------------------------------\u001b[0m",
      "\u001b[1;31mNameError\u001b[0m                                 Traceback (most recent call last)",
      "Cell \u001b[1;32mIn[3], line 6\u001b[0m\n\u001b[0;32m      4\u001b[0m str_ \u001b[38;5;241m=\u001b[39m [\u001b[38;5;241m-\u001b[39m\u001b[38;5;241m1\u001b[39m,\u001b[38;5;241m2\u001b[39m,\u001b[38;5;241m1\u001b[39m,\u001b[38;5;241m-\u001b[39m\u001b[38;5;241m4\u001b[39m]\n\u001b[0;32m      5\u001b[0m n \u001b[38;5;241m=\u001b[39m \u001b[38;5;241m3\u001b[39m\n\u001b[1;32m----> 6\u001b[0m \u001b[38;5;28mprint\u001b[39m(\u001b[43mfindsubsets\u001b[49m\u001b[43m(\u001b[49m\u001b[43mstr_\u001b[49m\u001b[43m,\u001b[49m\u001b[43m \u001b[49m\u001b[43mn\u001b[49m\u001b[43m)\u001b[49m)\n",
      "Cell \u001b[1;32mIn[3], line 3\u001b[0m, in \u001b[0;36mfindsubsets\u001b[1;34m(str_, n)\u001b[0m\n\u001b[0;32m      2\u001b[0m \u001b[38;5;28;01mdef\u001b[39;00m \u001b[38;5;21mfindsubsets\u001b[39m(str_, n):\n\u001b[1;32m----> 3\u001b[0m     \u001b[38;5;28;01mreturn\u001b[39;00m \u001b[38;5;28mlist\u001b[39m(\u001b[38;5;28mmap\u001b[39m(\u001b[38;5;28mset\u001b[39m, \u001b[43mitertools\u001b[49m\u001b[38;5;241m.\u001b[39mcombinations(s, n)))\n",
      "\u001b[1;31mNameError\u001b[0m: name 'itertools' is not defined"
     ]
    }
   ],
   "source": [
    "from itertools import combinations\n",
    "def findsubsets(str_, n):\n",
    "    return list(map(set, itertools.combinations(s, n)))\n",
    "str_ = [-1,2,1,-4]\n",
    "n = 3\n",
    "print(findsubsets(str_, n))"
   ]
  },
  {
   "cell_type": "code",
   "execution_count": 1,
   "id": "64a12d49",
   "metadata": {},
   "outputs": [
    {
     "name": "stdout",
     "output_type": "stream",
     "text": [
      "2\n"
     ]
    }
   ],
   "source": [
    "nums = [-1,2,1,-4]\n",
    "t = 1\n",
    "l2=nums[:3]\n",
    "out=sum(l2)\n",
    "for i in range(3,len(nums)):\n",
    "    "
   ]
  },
  {
   "cell_type": "code",
   "execution_count": null,
   "id": "98ad06fb",
   "metadata": {},
   "outputs": [],
   "source": [
    "Question 4\n",
    "Given a sorted array of distinct integers and a target value, return the index if the\n",
    "target is found. If not, return the index where it would be if it were inserted in\n",
    "order.\n",
    "\n",
    "You must write an algorithm with O(log n) runtime complexity.\n",
    "\n",
    "Example 1:\n",
    "Input: nums = [1,3,5,6], target = 5\n",
    "Output: 2"
   ]
  },
  {
   "cell_type": "code",
   "execution_count": 4,
   "id": "a6297267",
   "metadata": {},
   "outputs": [
    {
     "name": "stdout",
     "output_type": "stream",
     "text": [
      "2\n"
     ]
    }
   ],
   "source": [
    "def sol(nums,t):\n",
    "    l=0\n",
    "    h=len(nums)-1\n",
    "    while l<=h:\n",
    "        mid=int((l+h)/2)\n",
    "        if nums[mid]==t:\n",
    "            return mid\n",
    "        elif nums[mid]>t:\n",
    "            h=mid-1\n",
    "        elif nums[mid]<t:\n",
    "            l=mid+1\n",
    "    return h+1\n",
    "print(sol([1,3,5,6],4))"
   ]
  },
  {
   "cell_type": "code",
   "execution_count": null,
   "id": "1ab15f63",
   "metadata": {},
   "outputs": [],
   "source": [
    " **Question 5**\n",
    "You are given a large integer represented as an integer array digits, where each\n",
    "digits[i] is the ith digit of the integer. The digits are ordered from most significant\n",
    "to least significant in left-to-right order. The large integer does not contain any\n",
    "leading 0's.\n",
    "\n",
    "Increment the large integer by one and return the resulting array of digits.\n",
    "\n",
    "**Example 1:**\n",
    "Input: digits = [1,2,3]\n",
    "Output: [1,2,4]\n",
    "\n",
    "**Explanation:** The array represents the integer 123.\n",
    "Incrementing by one gives 123 + 1 = 124.\n",
    "Thus, the result should be [1,2,4].\n"
   ]
  },
  {
   "cell_type": "code",
   "execution_count": 36,
   "id": "df1b25c9",
   "metadata": {},
   "outputs": [
    {
     "name": "stdout",
     "output_type": "stream",
     "text": [
      "[9, 1, 0]\n"
     ]
    }
   ],
   "source": [
    "#Approach 1\n",
    "def sol(digits,k):\n",
    "    if digits[k]+1<10:\n",
    "        digits[k]=digits[k]+1\n",
    "    else:\n",
    "        if k==0:\n",
    "            digits[k]=0\n",
    "            digits.insert(0,1)\n",
    "        else:\n",
    "            digits[k]=0\n",
    "            #digits[k-1]=digits[k-1]+1\n",
    "            return sol(digits,k-1)\n",
    "        \n",
    "    return digits\n",
    "\n",
    "nums=[9,0,9]\n",
    "l=len(nums)\n",
    "print(sol(nums,len(nums)-1))"
   ]
  },
  {
   "cell_type": "code",
   "execution_count": 31,
   "id": "497bebe6",
   "metadata": {},
   "outputs": [
    {
     "data": {
      "text/plain": [
       "['1', '2', '4']"
      ]
     },
     "execution_count": 31,
     "metadata": {},
     "output_type": "execute_result"
    }
   ],
   "source": [
    "#Approach2\n",
    "digits = [1,2,3]\n",
    "num=\"\"\n",
    "for i in digits:\n",
    "    num+=str(i)\n",
    "num=int(num)\n",
    "num+=1\n",
    "res=[]\n",
    "res.extend(str(num))\n",
    "res"
   ]
  },
  {
   "cell_type": "code",
   "execution_count": null,
   "id": "58832609",
   "metadata": {},
   "outputs": [],
   "source": [
    "Question 6\n",
    "Given a non-empty array of integers nums, every element appears twice except\n",
    "for one. Find that single one.\n",
    "\n",
    "You must implement a solution with a linear runtime complexity and use only\n",
    "constant extra space.\n",
    "\n",
    "Example 1:\n",
    "Input: nums = [2,2,1]\n",
    "Output: 1"
   ]
  },
  {
   "cell_type": "code",
   "execution_count": 22,
   "id": "742ee877",
   "metadata": {},
   "outputs": [
    {
     "name": "stdout",
     "output_type": "stream",
     "text": [
      "1\n"
     ]
    }
   ],
   "source": [
    "nums = [2,2,1]\n",
    "t=None\n",
    "for i in range(len(nums)):\n",
    "    co=1\n",
    "    for j in range(len(nums)):\n",
    "        if i==j:\n",
    "            pass\n",
    "        elif nums[i]==nums[j]:\n",
    "            co+=1\n",
    "    if co==1:\n",
    "        t=nums[i]\n",
    "        break\n",
    "print(t)"
   ]
  },
  {
   "cell_type": "code",
   "execution_count": null,
   "id": "17480690",
   "metadata": {},
   "outputs": [],
   "source": [
    "Question 7\n",
    "You are given an inclusive range [lower, upper] and a sorted unique integer array\n",
    "nums, where all elements are within the inclusive range.\n",
    "\n",
    "A number x is considered missing if x is in the range [lower, upper] and x is not in\n",
    "nums.\n",
    "\n",
    "Return the shortest sorted list of ranges that exactly covers all the missing\n",
    "numbers. That is, no element of nums is included in any of the ranges, and each\n",
    "missing number is covered by one of the ranges.\n",
    "\n",
    "Example 1:\n",
    "Input: nums = [0,1,3,50,75], lower = 0, upper = 99\n",
    "Output: [[2,2],[4,49],[51,74],[76,99]]\n",
    "\n",
    "Explanation: The ranges are:\n",
    "[2,2]\n",
    "[4,49]\n",
    "[51,74]\n",
    "[76,99]"
   ]
  },
  {
   "cell_type": "code",
   "execution_count": 16,
   "id": "b6235bdb",
   "metadata": {},
   "outputs": [
    {
     "name": "stdout",
     "output_type": "stream",
     "text": [
      "[[1, 2], [4, 24], [26, 49], [51, 74], [76, 99]]\n"
     ]
    }
   ],
   "source": [
    "nums = [0,3,25,50,75]\n",
    "lower = 0\n",
    "higher = 99\n",
    "l=[]\n",
    "for i in range(len(nums)):\n",
    "    l1=[]\n",
    "    if i==0:\n",
    "        if nums[i]-lower>0:\n",
    "            l1.append(lower)\n",
    "            l1.append(nums[0])\n",
    "            l.append(l1)\n",
    "    elif i==(len(nums)-1):\n",
    "        if nums[i]-nums[i-1]>0:\n",
    "            l1.append(nums[i-1]+1)\n",
    "            l1.append(nums[i]-1)\n",
    "            l.append(l1)\n",
    "            l1=[]\n",
    "        if higher-nums[i]>0:\n",
    "            l1.append(nums[i]+1)\n",
    "            l1.append(higher)\n",
    "            l.append(l1)\n",
    "    else:\n",
    "        if nums[i]-nums[i-1]>0:\n",
    "            l1.append(nums[i-1]+1)\n",
    "            l1.append(nums[i]-1)\n",
    "            l.append(l1)\n",
    "            \n",
    "print(l)"
   ]
  },
  {
   "cell_type": "code",
   "execution_count": null,
   "id": "f84b93c1",
   "metadata": {},
   "outputs": [],
   "source": [
    "Question 8\n",
    "Given an array of meeting time intervals where intervals[i] = [starti, endi],\n",
    "determine if a person could attend all meetings.\n",
    "\n",
    "Example 1:\n",
    "Input: intervals = [[0,30],[5,10],[15,20]]\n",
    "Output: false"
   ]
  },
  {
   "cell_type": "code",
   "execution_count": 3,
   "id": "b8b5afac",
   "metadata": {},
   "outputs": [
    {
     "name": "stdout",
     "output_type": "stream",
     "text": [
      "True\n"
     ]
    }
   ],
   "source": [
    "inte= [[0,30],[31,50],[55,65]]\n",
    "a=0\n",
    "b=1\n",
    "out=False\n",
    "for i in range(0,len(inte)-1):\n",
    "    if inte[i][0]<inte[i+1][0] and inte[i][1]<inte[i+1][0]:\n",
    "        out=True\n",
    "    else:\n",
    "        out=False\n",
    "        break\n",
    "print(out)\n",
    "        "
   ]
  },
  {
   "cell_type": "code",
   "execution_count": 2,
   "id": "7d77e7fe",
   "metadata": {},
   "outputs": [],
   "source": [
    "!pip install itertools"
   ]
  },
  {
   "cell_type": "code",
   "execution_count": null,
   "id": "20c96616",
   "metadata": {},
   "outputs": [],
   "source": []
  }
 ],
 "metadata": {
  "kernelspec": {
   "display_name": "Python 3 (ipykernel)",
   "language": "python",
   "name": "python3"
  },
  "language_info": {
   "codemirror_mode": {
    "name": "ipython",
    "version": 3
   },
   "file_extension": ".py",
   "mimetype": "text/x-python",
   "name": "python",
   "nbconvert_exporter": "python",
   "pygments_lexer": "ipython3",
   "version": "3.10.9"
  }
 },
 "nbformat": 4,
 "nbformat_minor": 5
}
