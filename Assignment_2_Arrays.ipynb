{
 "cells": [
  {
   "cell_type": "code",
   "execution_count": null,
   "id": "9f15b5a5",
   "metadata": {},
   "outputs": [],
   "source": [
    "**Question 1**\n",
    "Given an integer array nums of 2n integers, group these integers into n pairs (a1, b1), (a2, b2),..., (an, bn) such that the sum of min(ai, bi) for all i is maximized. Return the maximized sum.\n",
    "\n",
    "**Example 1:**\n",
    "Input: nums = [1,4,3,2]\n",
    "Output: 4\n",
    "\n",
    "**Explanation:** All possible pairings (ignoring the ordering of elements) are:\n",
    "\n",
    "1. (1, 4), (2, 3) -> min(1, 4) + min(2, 3) = 1 + 2 = 3\n",
    "2. (1, 3), (2, 4) -> min(1, 3) + min(2, 4) = 1 + 2 = 3\n",
    "3. (1, 2), (3, 4) -> min(1, 2) + min(3, 4) = 1 + 3 = 4\n",
    "So the maximum possible sum is 4"
   ]
  },
  {
   "cell_type": "code",
   "execution_count": 15,
   "id": "e0530767",
   "metadata": {},
   "outputs": [
    {
     "name": "stdout",
     "output_type": "stream",
     "text": [
      "37\n"
     ]
    }
   ],
   "source": [
    "nums=[1,4,3,2,11,12,22,33]\n",
    "nums=sorted(nums)\n",
    "print(sum(nums[0::2]))"
   ]
  },
  {
   "cell_type": "code",
   "execution_count": null,
   "id": "e9282157",
   "metadata": {},
   "outputs": [],
   "source": [
    "Question 2\n",
    "Alice has n candies, where the ith candy is of type candyType[i]. Alice noticed that she started to gain weight, so she visited a doctor. \n",
    "\n",
    "The doctor advised Alice to only eat n / 2 of the candies she has (n is always even). Alice likes her candies very much, and she wants to eat the maximum number of different types of candies while still following the doctor's advice. \n",
    "\n",
    "Given the integer array candyType of length n, return the maximum number of different types of candies she can eat if she only eats n / 2 of them.\n",
    "\n",
    "Example 1:\n",
    "Input: candyType = [1,1,2,2,3,3]\n",
    "Output: 3\n",
    "\n",
    "Explanation: Alice can only eat 6 / 2 = 3 candies. Since there are only 3 types, she can eat one of each type."
   ]
  },
  {
   "cell_type": "code",
   "execution_count": 2,
   "id": "8d419e09",
   "metadata": {},
   "outputs": [
    {
     "name": "stdout",
     "output_type": "stream",
     "text": [
      "3\n"
     ]
    }
   ],
   "source": [
    "#Approach1\n",
    "candyType = [1,1,2,2,3,3,3,3]\n",
    "c2=set(candyType)\n",
    "d=int(len(candyType)/2)\n",
    "if d%2==0:\n",
    "    if d>=len(c2):\n",
    "        print(len(c2))\n",
    "    else:\n",
    "        print(d)\n",
    "else:\n",
    "    print(\"wrong input acc to question\")"
   ]
  },
  {
   "cell_type": "code",
   "execution_count": 3,
   "id": "34f1c936",
   "metadata": {},
   "outputs": [
    {
     "name": "stdout",
     "output_type": "stream",
     "text": [
      "3\n"
     ]
    }
   ],
   "source": [
    "#Approach2\n",
    "candyType = [1,1,2,2,3,3,3,3]\n",
    "l1=[]\n",
    "d=int(len(candyType)/2)\n",
    "for i in candyType:\n",
    "    if i not in l1:\n",
    "        l1.append(i)\n",
    "if d%2==0:\n",
    "    if d>=len(l1):\n",
    "        print(len(l1))\n",
    "    else:\n",
    "        print(d)\n",
    "else:\n",
    "    print(\"wrong input acc to question\")"
   ]
  },
  {
   "cell_type": "code",
   "execution_count": null,
   "id": "f8b251d9",
   "metadata": {},
   "outputs": [],
   "source": [
    "Question 3\n",
    "We define a harmonious array as an array where the difference between its maximum value\n",
    "and its minimum value is exactly 1.\n",
    "\n",
    "Given an integer array nums, return the length of its longest harmonious subsequence\n",
    "among all its possible subsequences.\n",
    "\n",
    "A subsequence of an array is a sequence that can be derived from the array by deleting some or no elements without changing the order of the remaining elements.\n",
    "\n",
    "Example 1:\n",
    "Input: nums = [1,3,2,2,5,2,3,7]\n",
    "Output: 5\n",
    "\n",
    "Explanation: The longest harmonious subsequence is [3,2,2,2,3]"
   ]
  },
  {
   "cell_type": "code",
   "execution_count": 33,
   "id": "8337149a",
   "metadata": {},
   "outputs": [
    {
     "name": "stdout",
     "output_type": "stream",
     "text": [
      "7\n"
     ]
    }
   ],
   "source": [
    "nums = [1,3,2,2,5,5,7,3,2,2,3,7]\n",
    "\n",
    "i=0\n",
    "maxm=0\n",
    "while i<len(nums):\n",
    "    j=i+1\n",
    "    count=1\n",
    "    while j<len(nums):\n",
    "        if nums[j]==nums[i] or nums[j]==nums[i]+1 or nums[j]==nums[i]-1:\n",
    "            count+=1\n",
    "        j+=1\n",
    "    i+=1\n",
    "    if count>maxm:\n",
    "        maxm=count\n",
    "print(maxm)\n",
    "    \n",
    "    \n",
    "    \n",
    "    "
   ]
  },
  {
   "cell_type": "code",
   "execution_count": null,
   "id": "25fc1c48",
   "metadata": {},
   "outputs": [],
   "source": [
    "Question 4\n",
    "You have a long flowerbed in which some of the plots are planted, and some are not.\n",
    "However, flowers cannot be planted in adjacent plots.\n",
    "Given an integer array flowerbed containing 0's and 1's, where 0 means empty and 1 means not empty, and an integer n, return true if n new flowers can be planted in the flowerbed without violating the no-adjacent-flowers rule and false otherwise.\n",
    "\n",
    "Example 1:\n",
    "Input: flowerbed = [1,0,0,0,1], n = 1\n",
    "Output: true"
   ]
  },
  {
   "cell_type": "code",
   "execution_count": 12,
   "id": "d000d22e",
   "metadata": {},
   "outputs": [
    {
     "name": "stdout",
     "output_type": "stream",
     "text": [
      "True\n"
     ]
    }
   ],
   "source": [
    "fl= [1,0,0,0,0,0,1]\n",
    "n = 2\n",
    "c=0\n",
    "for i in range(len(fl)):\n",
    "    if fl[i]==0:\n",
    "        if fl[i+1]==0 and fl[i-1]==0:\n",
    "            c+=1\n",
    "            fl[i]=1\n",
    "if c>=n:\n",
    "    print(\"True\")\n",
    "else:\n",
    "    print(\"False\")"
   ]
  },
  {
   "cell_type": "code",
   "execution_count": null,
   "id": "62cc132d",
   "metadata": {},
   "outputs": [],
   "source": [
    "Question 5\n",
    "Given an integer array nums, find three numbers whose product is maximum and return the maximum product.\n",
    "\n",
    "Example 1:\n",
    "Input: nums = [1,2,3]\n",
    "Output: 6"
   ]
  },
  {
   "cell_type": "code",
   "execution_count": 38,
   "id": "edc76bf0",
   "metadata": {},
   "outputs": [
    {
     "name": "stdout",
     "output_type": "stream",
     "text": [
      "96\n"
     ]
    }
   ],
   "source": [
    "#Approach1\n",
    "nums = [4,1,2,3,1,2,8]\n",
    "nums=sorted(nums)\n",
    "l=nums[-3:]\n",
    "mul=1\n",
    "for i in l:\n",
    "    mul=mul*i\n",
    "print(mul)"
   ]
  },
  {
   "cell_type": "code",
   "execution_count": 13,
   "id": "b1734111",
   "metadata": {},
   "outputs": [
    {
     "name": "stdout",
     "output_type": "stream",
     "text": [
      "96\n"
     ]
    }
   ],
   "source": [
    "#Approach2\n",
    "from math import prod\n",
    "nums = [4,1,2,3,1,2,8]\n",
    "l=nums[:3]\n",
    "out=prod(l)\n",
    "for i in range(3,len(nums)):\n",
    "    if nums[i]>min(l):\n",
    "        l.remove(min(l))\n",
    "        l.append(nums[i])\n",
    "        mu=prod(l)\n",
    "        if mu>out:\n",
    "            out=mu\n",
    "print(out)\n",
    "        "
   ]
  },
  {
   "cell_type": "code",
   "execution_count": null,
   "id": "366c0c73",
   "metadata": {},
   "outputs": [],
   "source": [
    "Question 6\n",
    "Given an array of integers nums which is sorted in ascending order, and an integer target,\n",
    "write a function to search target in nums. If target exists, then return its index. Otherwise,\n",
    "return -1.\n",
    "\n",
    "You must write an algorithm with O(log n) runtime complexity.\n",
    "\n",
    "Input: nums = [-1,0,3,5,9,12], target = 9\n",
    "Output: 4\n",
    "\n",
    "Explanation: 9 exists in nums and its index is 4"
   ]
  },
  {
   "cell_type": "code",
   "execution_count": 1,
   "id": "61ef1e54",
   "metadata": {},
   "outputs": [
    {
     "name": "stdout",
     "output_type": "stream",
     "text": [
      "4\n"
     ]
    }
   ],
   "source": [
    "def sol(li,t):\n",
    "    l=0\n",
    "    h=len(li)-1\n",
    "    while l<=h:\n",
    "        mid=(l+h)//2\n",
    "        if li[mid]<t:\n",
    "            l=mid+1\n",
    "        elif li[mid]>t:\n",
    "            h=mid-1\n",
    "        else:\n",
    "            return mid\n",
    "    return -1\n",
    "print(sol([-1,0,3,5,9,12],9))\n",
    "    "
   ]
  },
  {
   "cell_type": "code",
   "execution_count": null,
   "id": "c0be9523",
   "metadata": {},
   "outputs": [],
   "source": [
    "Question 7\n",
    "An array is monotonic if it is either monotone increasing or monotone decreasing.\n",
    "\n",
    "An array nums is monotone increasing if for all i <= j, nums[i] <= nums[j]. An array nums is\n",
    "monotone decreasing if for all i <= j, nums[i] >= nums[j].\n",
    "\n",
    "Given an integer array nums, return true if the given array is monotonic, or false otherwise.\n",
    "\n",
    "Example 1:\n",
    "Input: nums = [1,2,2,3]\n",
    "Output: true"
   ]
  },
  {
   "cell_type": "code",
   "execution_count": 29,
   "id": "f3b9159e",
   "metadata": {},
   "outputs": [
    {
     "name": "stdout",
     "output_type": "stream",
     "text": [
      "True\n"
     ]
    }
   ],
   "source": [
    "def sol(nums):\n",
    "    l=0\n",
    "    h=len(nums)-1\n",
    "    if nums[l]<=nums[h]:\n",
    "        for i in range(len(nums)-1):\n",
    "            l1=[0,1]\n",
    "            if nums[i+1]<nums[i]:\n",
    "                return False\n",
    "        return True\n",
    "    elif nums[l]>nums[h]:\n",
    "        for i in range(len(nums)-1):\n",
    "            l1=[0,-1]\n",
    "            if nums[i+1]>nums[i]:\n",
    "                return False\n",
    "        return True\n",
    "    else:\n",
    "        return False\n",
    "    \n",
    "print(sol([1,2,2,3]))          \n",
    "            \n",
    "        \n",
    "        "
   ]
  },
  {
   "cell_type": "code",
   "execution_count": null,
   "id": "877f4efd",
   "metadata": {},
   "outputs": [],
   "source": [
    "Question 8\n",
    "You are given an integer array nums and an integer k.\n",
    "\n",
    "In one operation, you can choose any index i where 0 <= i < nums.length and change nums[i] to nums[i] + x where x is an integer from the range [-k, k]. You can apply this operation at most once for each index i.\n",
    "\n",
    "The score of nums is the difference between the maximum and minimum elements in nums.\n",
    "\n",
    "Return the minimum score of nums after applying the mentioned operation at most once for each index in it.\n",
    "\n",
    "Example 1:\n",
    "Input: nums = [1], k = 0\n",
    "Output: 0\n",
    "\n",
    "Explanation: The score is max(nums) - min(nums) = 1 - 1 = 0."
   ]
  },
  {
   "cell_type": "code",
   "execution_count": 37,
   "id": "a28e877a",
   "metadata": {},
   "outputs": [
    {
     "name": "stdout",
     "output_type": "stream",
     "text": [
      "6\n"
     ]
    }
   ],
   "source": [
    "nums=[0,10]\n",
    "k=2\n",
    "maxi=max(nums)\n",
    "mini=min(nums)\n",
    "if maxi-mini<=2*k:\n",
    "    print(0)\n",
    "else:\n",
    "    print(maxi-k-(mini+k))"
   ]
  },
  {
   "cell_type": "code",
   "execution_count": null,
   "id": "43e3e715",
   "metadata": {},
   "outputs": [],
   "source": []
  }
 ],
 "metadata": {
  "kernelspec": {
   "display_name": "Python 3 (ipykernel)",
   "language": "python",
   "name": "python3"
  },
  "language_info": {
   "codemirror_mode": {
    "name": "ipython",
    "version": 3
   },
   "file_extension": ".py",
   "mimetype": "text/x-python",
   "name": "python",
   "nbconvert_exporter": "python",
   "pygments_lexer": "ipython3",
   "version": "3.10.9"
  }
 },
 "nbformat": 4,
 "nbformat_minor": 5
}
