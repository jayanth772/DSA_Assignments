{
 "cells": [
  {
   "cell_type": "code",
   "execution_count": 8,
   "id": "64a0ccfe",
   "metadata": {},
   "outputs": [
    {
     "name": "stdout",
     "output_type": "stream",
     "text": [
      "0\n",
      "2\n",
      "-1\n"
     ]
    }
   ],
   "source": [
    "#Approach1\n",
    "def sol(str):\n",
    "    out=-1\n",
    "    l=[]\n",
    "    for i in range(len(str)):\n",
    "        count=0\n",
    "        for j in range(i+1,len(str)):\n",
    "            if str[i]==str[j]:\n",
    "                count+=1\n",
    "                \n",
    "        if count==0 and str[i] not in l:\n",
    "            out=i\n",
    "            return out\n",
    "        else:\n",
    "            l.append(str[i])\n",
    "            \n",
    "    return out\n",
    "s = \"leetcode\"\n",
    "s1=\"loveleetcode\"\n",
    "s2=\"aabb\"\n",
    "print(sol(s))\n",
    "print(sol(s1))\n",
    "print(sol(s2))\n",
    "\n",
    "#Timecomplexity:0(n*n)"
   ]
  },
  {
   "cell_type": "code",
   "execution_count": 7,
   "id": "4450ac88",
   "metadata": {},
   "outputs": [
    {
     "name": "stdout",
     "output_type": "stream",
     "text": [
      "0\n",
      "2\n",
      "-1\n"
     ]
    }
   ],
   "source": [
    "#Approach2\n",
    "def sol(str):\n",
    "    l=[]\n",
    "    out=-1\n",
    "    l.extend(str)\n",
    "    for i in l:\n",
    "        if str.count(i)==1:\n",
    "            out=str.index(i)\n",
    "            return out\n",
    "            \n",
    "    return out\n",
    "s = \"leetcode\"\n",
    "s1=\"loveleetcode\"\n",
    "s2=\"aabb\"\n",
    "print(sol(s))\n",
    "print(sol(s1))\n",
    "print(sol(s2))\n",
    "\n",
    "#Timecomplexity:0(n)"
   ]
  },
  {
   "cell_type": "code",
   "execution_count": null,
   "id": "159b10ff",
   "metadata": {},
   "outputs": [],
   "source": []
  }
 ],
 "metadata": {
  "kernelspec": {
   "display_name": "Python 3 (ipykernel)",
   "language": "python",
   "name": "python3"
  },
  "language_info": {
   "codemirror_mode": {
    "name": "ipython",
    "version": 3
   },
   "file_extension": ".py",
   "mimetype": "text/x-python",
   "name": "python",
   "nbconvert_exporter": "python",
   "pygments_lexer": "ipython3",
   "version": "3.10.9"
  }
 },
 "nbformat": 4,
 "nbformat_minor": 5
}
