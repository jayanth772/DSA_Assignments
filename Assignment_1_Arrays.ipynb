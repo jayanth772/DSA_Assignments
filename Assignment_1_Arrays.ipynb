{
 "cells": [
  {
   "cell_type": "code",
   "execution_count": null,
   "id": "4f9acf30",
   "metadata": {},
   "outputs": [],
   "source": [
    "💡 **Q1.** Given an array of integers nums and an integer target, return indices of the two numbers such that they add up to target.\n",
    "\n",
    "You may assume that each input would have exactly one solution, and you may not use the same element twice.\n",
    "\n",
    "You can return the answer in any order.\n",
    "\n",
    "**Example:**\n",
    "Input: nums = [2,7,11,15], target = 9\n",
    "Output0 [0,1]\n",
    "\n",
    "**Explanation:** Because nums[0] + nums[1] == 9, we return [0, 1][\n"
   ]
  },
  {
   "cell_type": "code",
   "execution_count": 2,
   "id": "ba43b6b0",
   "metadata": {},
   "outputs": [
    {
     "name": "stdout",
     "output_type": "stream",
     "text": [
      "[0, 1]\n"
     ]
    }
   ],
   "source": [
    "nums = [2,7,11,15]\n",
    "target = 9\n",
    "k=[]\n",
    "for i in range(len(nums)):\n",
    "    for j in range(i+1,len(nums)):\n",
    "        if l[i]+l[j]==target:\n",
    "            k.append(i)\n",
    "            k.append(j)\n",
    "            break\n",
    "\n",
    "print(k)"
   ]
  },
  {
   "cell_type": "code",
   "execution_count": null,
   "id": "06c18be4",
   "metadata": {},
   "outputs": [],
   "source": [
    "💡 **Q2.** Given an integer array nums and an integer val, remove all occurrences of val in nums in-place. The order of the elements may be changed. Then return the number of elements in nums which are not equal to val.\n",
    "\n",
    "Consider the number of elements in nums which are not equal to val be k, to get accepted, you need to do the following things:\n",
    "\n",
    "- Change the array nums such that the first k elements of nums contain the elements which are not equal to val. The remaining elements of nums are not important as well as the size of nums.\n",
    "- Return k.\n",
    "\n",
    "**Example :**\n",
    "Input: nums = [3,2,2,3], val = 3\n",
    "Output: 2, nums = [2,2,_*,_*]\n",
    "\n",
    "**Explanation:** Your function should return k = 2, with the first two elements of nums being 2. It does not matter what you leave beyond the returned k (hence they are underscores)[\n"
   ]
  },
  {
   "cell_type": "code",
   "execution_count": 5,
   "id": "9005aa87",
   "metadata": {},
   "outputs": [
    {
     "name": "stdout",
     "output_type": "stream",
     "text": [
      "k value is 2 and the new list is [2, 2, '_', '_']\n"
     ]
    }
   ],
   "source": [
    "nums = [3,2,2,3]\n",
    "val = 3\n",
    "k=0\n",
    "for i in nums:\n",
    "    if i==val:\n",
    "        nums.remove(i)\n",
    "        nums.append(\"_\")\n",
    "        k=k+1\n",
    "\n",
    "print(f\"k value is {k} and the new list is {nums}\")"
   ]
  },
  {
   "cell_type": "code",
   "execution_count": null,
   "id": "b9ee4f37",
   "metadata": {},
   "outputs": [],
   "source": [
    "💡 **Q3.** Given a sorted array of distinct integers and a target value, return the index if the target is found. If not, return the index where it would be if it were inserted in order.\n",
    "\n",
    "You must write an algorithm with O(log n) runtime complexity.\n",
    "\n",
    "**Example 1:**\n",
    "Input: nums = [1,3,5,6], target = 5\n",
    "\n",
    "Output: 2\n"
   ]
  },
  {
   "cell_type": "code",
   "execution_count": 13,
   "id": "55c6e714",
   "metadata": {},
   "outputs": [
    {
     "name": "stdout",
     "output_type": "stream",
     "text": [
      "2\n"
     ]
    }
   ],
   "source": [
    "def sol(nums,t):\n",
    "    l=0\n",
    "    h=len(nums)-1\n",
    "    while(l<=h):\n",
    "        mid=int((l+h)/2)\n",
    "        if nums[mid]==t:\n",
    "            return mid\n",
    "        elif nums[mid]<t:\n",
    "            l=mid+1\n",
    "        elif nums[mid]>t:\n",
    "            h=mid-1\n",
    "    return h+1\n",
    "    \n",
    "    \n",
    "    \n",
    "print(sol([1,3,5,6],5))"
   ]
  },
  {
   "cell_type": "code",
   "execution_count": null,
   "id": "097c103e",
   "metadata": {},
   "outputs": [],
   "source": [
    "💡 **Q4.** You are given a large integer represented as an integer array digits, where each digits[i] is the ith digit of the integer. The digits are ordered from most significant to least significant in left-to-right order. The large integer does not contain any leading 0's.\n",
    "\n",
    "Increment the large integer by one and return the resulting array of digits.\n",
    "\n",
    "**Example 1:**\n",
    "Input: digits = [1,2,3]\n",
    "Output: [1,2,4]\n",
    "\n",
    "**Explanation:** The array represents the integer 123.\n",
    "\n",
    "Incrementing by one gives 123 + 1 = 124.\n",
    "Thus, the result should be [1,2,4]."
   ]
  },
  {
   "cell_type": "code",
   "execution_count": 20,
   "id": "48cead46",
   "metadata": {},
   "outputs": [
    {
     "name": "stdout",
     "output_type": "stream",
     "text": [
      "[1, 2, 4]\n"
     ]
    }
   ],
   "source": [
    "digits = [1,2,3,0,0,0]\n",
    "if digits[len(digits)-1]==0:\n",
    "    while digits[len(digits)-1]==0:\n",
    "        digits.pop()\n",
    "digits[len(digits)-1]=digits[len(digits)-1]+1\n",
    "print(digits)"
   ]
  },
  {
   "cell_type": "code",
   "execution_count": 17,
   "id": "778aadf8",
   "metadata": {},
   "outputs": [
    {
     "name": "stdout",
     "output_type": "stream",
     "text": [
      "[1, 2, 3, 0]\n"
     ]
    }
   ],
   "source": [
    "💡 **Q5.** You are given two integer arrays nums1 and nums2, sorted in non-decreasing order, and two integers m and n, representing the number of elements in nums1 and nums2 respectively.\n",
    "\n",
    "Merge nums1 and nums2 into a single array sorted in non-decreasing order.\n",
    "\n",
    "The final sorted array should not be returned by the function, but instead be stored inside the array nums1. To accommodate this, nums1 has a length of m + n, where the first m elements denote the elements that should be merged, and the last n elements are set to 0 and should be ignored. nums2 has a length of n.\n",
    "\n",
    "**Example 1:**\n",
    "Input: nums1 = [1,2,3,0,0,0], m = 3, nums2 = [2,5,6], n = 3\n",
    "Output: [1,2,2,3,5,6]\n",
    "\n",
    "**Explanation:** The arrays we are merging are [1,2,3] and [2,5,6].\n",
    "The result of the merge is [1,2,2,3,5,6] with the underlined elements coming from nums1."
   ]
  },
  {
   "cell_type": "code",
   "execution_count": 33,
   "id": "c1a18cd6",
   "metadata": {},
   "outputs": [
    {
     "name": "stdout",
     "output_type": "stream",
     "text": [
      "[1, 2, 2, 3, 5, 6]\n"
     ]
    }
   ],
   "source": [
    "nums1 = [1,2,3,0,0,0]\n",
    "m = 3\n",
    "nums2 = [2,5,6]\n",
    "n = 3\n",
    "nums1copy=nums1[:m]\n",
    "p1,p2,p=0,0,0\n",
    "while p<m+n:\n",
    "    if p2>=n or (p1<m and nums1copy[p1]<nums2[p2]):\n",
    "        nums1[p]=nums1copy[p1]\n",
    "        p1=p1+1\n",
    "    else:\n",
    "        nums1[p]=nums2[p2]\n",
    "        p2=p2+1\n",
    "    p=p+1\n",
    "print(nums1)"
   ]
  },
  {
   "cell_type": "code",
   "execution_count": null,
   "id": "9406604e",
   "metadata": {},
   "outputs": [],
   "source": [
    "💡 **Q6.** Given an integer array nums, return true if any value appears at least twice in the array, and return false if every element is distinct.\n",
    "\n",
    "**Example 1:**\n",
    "Input: nums = [1,2,3,1]\n",
    "\n",
    "Output: true"
   ]
  },
  {
   "cell_type": "code",
   "execution_count": 37,
   "id": "5420a93c",
   "metadata": {},
   "outputs": [
    {
     "name": "stdout",
     "output_type": "stream",
     "text": [
      "True\n"
     ]
    }
   ],
   "source": [
    "nums = [1,2,3,1]\n",
    "out=False\n",
    "for i in range(len(nums)):\n",
    "    for j in range(i+1,len(nums)):\n",
    "        if nums[i]==nums[j]:\n",
    "            out=True\n",
    "            break\n",
    "            \n",
    "print(out)"
   ]
  },
  {
   "cell_type": "code",
   "execution_count": 12,
   "id": "d37c0d84",
   "metadata": {},
   "outputs": [
    {
     "name": "stdout",
     "output_type": "stream",
     "text": [
      "True\n"
     ]
    }
   ],
   "source": [
    "#approach2\n",
    "nums = [1,2,3,1]\n",
    "s1=set(nums)\n",
    "if len(nums)>len(s1):\n",
    "    print(True)\n",
    "else:\n",
    "    print(False)"
   ]
  },
  {
   "cell_type": "code",
   "execution_count": null,
   "id": "90164322",
   "metadata": {},
   "outputs": [],
   "source": [
    "💡 **Q7.** Given an integer array nums, move all 0's to the end of it while maintaining the relative order of the nonzero elements.\n",
    "\n",
    "Note that you must do this in-place without making a copy of the array.\n",
    "\n",
    "**Example 1:**\n",
    "Input: nums = [0,1,0,3,12]\n",
    "Output: [1,3,12,0,0]\n",
    "\n"
   ]
  },
  {
   "cell_type": "code",
   "execution_count": 1,
   "id": "ae408929",
   "metadata": {},
   "outputs": [
    {
     "name": "stdout",
     "output_type": "stream",
     "text": [
      "[1, 3, 12, 22, 13, 0, 0, 0, 0, 0]\n"
     ]
    }
   ],
   "source": [
    "nums = [0,1,0,3,12,0,22,13,0,0]\n",
    "for i in nums:\n",
    "    if i==0:\n",
    "        nums.remove(0)\n",
    "        nums.append(0)\n",
    "\n",
    "print(nums)\n",
    "    "
   ]
  },
  {
   "cell_type": "code",
   "execution_count": null,
   "id": "284d0a33",
   "metadata": {},
   "outputs": [],
   "source": [
    "💡 **Q8.** You have a set of integers s, which originally contains all the numbers from 1 to n. Unfortunately, due to some error, one of the numbers in s got duplicated to another number in the set, which results in repetition of one number and loss of another number.\n",
    "\n",
    "You are given an integer array nums representing the data status of this set after the error.\n",
    "\n",
    "Find the number that occurs twice and the number that is missing and return them in the form of an array.\n",
    "\n",
    "**Example 1:**\n",
    "Input: nums = [1,2,2,4]\n",
    "Output: [2,3]\n"
   ]
  },
  {
   "cell_type": "code",
   "execution_count": 10,
   "id": "8288fabc",
   "metadata": {},
   "outputs": [
    {
     "name": "stdout",
     "output_type": "stream",
     "text": [
      "[6, 7]\n"
     ]
    }
   ],
   "source": [
    "nums=[1,2,3,4,5,6,6]\n",
    "s=set(nums)\n",
    "d=sum(nums)-sum(s)\n",
    "out=[d]\n",
    "for i in range(len(nums)):\n",
    "    if nums[i]!=i+1:\n",
    "        out.append(i+1)\n",
    "print(out)"
   ]
  },
  {
   "cell_type": "code",
   "execution_count": null,
   "id": "1db7022c",
   "metadata": {},
   "outputs": [],
   "source": []
  }
 ],
 "metadata": {
  "kernelspec": {
   "display_name": "Python 3 (ipykernel)",
   "language": "python",
   "name": "python3"
  },
  "language_info": {
   "codemirror_mode": {
    "name": "ipython",
    "version": 3
   },
   "file_extension": ".py",
   "mimetype": "text/x-python",
   "name": "python",
   "nbconvert_exporter": "python",
   "pygments_lexer": "ipython3",
   "version": "3.10.9"
  }
 },
 "nbformat": 4,
 "nbformat_minor": 5
}
