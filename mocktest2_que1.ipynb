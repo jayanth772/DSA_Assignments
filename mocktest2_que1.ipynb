{
 "cells": [
  {
   "cell_type": "code",
   "execution_count": 1,
   "id": "242fcfc1",
   "metadata": {},
   "outputs": [
    {
     "name": "stdout",
     "output_type": "stream",
     "text": [
      "Enter a non negative integer : 8\n"
     ]
    }
   ],
   "source": [
    "while True:\n",
    "    try:\n",
    "        num=int(input(\"Enter a non negative integer : \"))\n",
    "        if num >= 0:\n",
    "            break\n",
    "        else:\n",
    "            print(\"Enter positive integer \")\n",
    "    except Exception as e:\n",
    "        print(\"Enter integer\")"
   ]
  },
  {
   "cell_type": "code",
   "execution_count": 2,
   "id": "d2799d8b",
   "metadata": {},
   "outputs": [],
   "source": [
    "def rounded_square(num):\n",
    "    if num <4:\n",
    "        return 1\n",
    "    start=1\n",
    "    end=num//2\n",
    "    \n",
    "    while start<=end:\n",
    "        mid=(start+end)//2\n",
    "#       print(f\"start={start} and end={end} and mid={mid}\")\n",
    "        if mid*mid==num:\n",
    "            return mid\n",
    "        if mid*mid < num:\n",
    "            start=mid\n",
    "        elif mid * mid > num:\n",
    "            end=mid\n",
    "        if end-start==1:\n",
    "            return start"
   ]
  },
  {
   "cell_type": "code",
   "execution_count": 3,
   "id": "f0d75b18",
   "metadata": {},
   "outputs": [
    {
     "name": "stdout",
     "output_type": "stream",
     "text": [
      "rounded squareroot of 8 is 2\n"
     ]
    }
   ],
   "source": [
    "res=rounded_square(num)\n",
    "print(\"rounded squareroot of {} is {}\".format(num,res))"
   ]
  },
  {
   "cell_type": "code",
   "execution_count": null,
   "id": "24bfc6e0",
   "metadata": {},
   "outputs": [],
   "source": []
  }
 ],
 "metadata": {
  "kernelspec": {
   "display_name": "Python 3 (ipykernel)",
   "language": "python",
   "name": "python3"
  },
  "language_info": {
   "codemirror_mode": {
    "name": "ipython",
    "version": 3
   },
   "file_extension": ".py",
   "mimetype": "text/x-python",
   "name": "python",
   "nbconvert_exporter": "python",
   "pygments_lexer": "ipython3",
   "version": "3.10.9"
  }
 },
 "nbformat": 4,
 "nbformat_minor": 5
}
